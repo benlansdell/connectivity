{
 "cells": [
  {
   "cell_type": "code",
   "execution_count": 29,
   "metadata": {
    "collapsed": false
   },
   "outputs": [],
   "source": [
    "T = 2; N = 1000;"
   ]
  },
  {
   "cell_type": "code",
   "execution_count": 30,
   "metadata": {
    "collapsed": true
   },
   "outputs": [],
   "source": [
    "\n",
    "\trand('seed',1);\n",
    "\tM=ceil(0.1*N);         % number of synapses per neuron\n",
    "\tD=20;                  % maximal conduction delay \n",
    "\t% excitatory neurons   % inhibitory neurons      % total number \n",
    "\tNe=ceil(0.8*N);                Ni=N-Ne; \n",
    "\ta=[0.02*ones(Ne,1);    0.1*ones(Ni,1)];\n",
    "\td=[   8*ones(Ne,1);    2*ones(Ni,1)];\n",
    "\tsm=10;                 % maximal synaptic strength\n",
    "\n",
    "\texw = 6;\n",
    "\tinw = 5;\n",
    "\t\n",
    "\t%Generate connectivity and weights matrix\n",
    "\tconn = zeros(N,N);\n",
    "\tweight = zeros(N,N);\n",
    "\tdelaysmat = zeros(N,N);\n",
    "\n",
    "\t% post=ceil([N*rand(Ne,M);Ne*rand(Ni,M)]); \n",
    "\t% Take special care not to have multiple connections between neurons\n",
    "\tdelays = cell(N,D);\n",
    "\tfor i=1:Ne\n",
    "\t\t\tp=randperm(N);\n",
    "\t\t\tpost(i,:)=p(1:M);\n",
    "\t\t\tconn(i,p(1:M)) = 1;\n",
    "\t\t\tconn(i,p(1:M)) = exw;\n",
    "\t\t\tfor j=1:M\n",
    "\t\t\t\t\tdelay = ceil(D*rand);\n",
    "\t\t\t\t\tdelays{i, delay}(end+1) = j;  % Assign random exc delays\n",
    "\t\t\t\t\tdelaysmat(i,p(j)) = delay;\n",
    "\t\t\tend;\n",
    "\tend;\n",
    "\tfor i=Ne+1:N\n",
    "\t\t\tp=randperm(Ne);\n",
    "\t\t\tpost(i,:)=p(1:M);\n",
    "\t\t\tconn(i,p(1:M)) = 1;\n",
    "\t\t\tconn(i,p(1:M)) = -inw;\n",
    "\t\t\tdelays{i,1}=1:M;                    % all inh delays are 1 ms.\n",
    "\t\t\tdelaysmat(i,p(1:M)) = 1;\n",
    "\tend;\n",
    "\t\n",
    "\ts=[exw*ones(Ne,M);-inw*ones(Ni,M)];         % synaptic weights\n",
    "\t%sd=zeros(N,M);                          % their derivatives\n",
    "\t\n",
    "\t%Only needed for STDP\n",
    "\t% Make links at postsynaptic targets to the presynaptic weights\n",
    "\t%pre = cell(N,1);\n",
    "\t%aux = cell(N,1);\n",
    "\t%for i=1:Ne\n",
    "\t%\t\tfor j=1:D\n",
    "\t%\t\t\t\tfor k=1:length(delays{i,j})\n",
    "\t%\t\t\t\t\t\tpre{post(i, delays{i, j}(k))}(end+1) = N*(delays{i, j}(k)-1)+i;\n",
    "\t%\t\t\t\t\t\taux{post(i, delays{i, j}(k))}(end+1) = N*(D-1-j)+i; % takes into account delay\n",
    "\t%\t\t\t\tend;\n",
    "\t%\t\tend;\n",
    "\t%end;\n",
    "\t\n",
    "\ttimes = cell(N,1);\n",
    "\n",
    "\t%STDP = zeros(N,1001+D);\n",
    "\tv = -65*ones(N,1);                      % initial values\n",
    "\tu = 0.2.*v;                             % initial values\n",
    "\tfirings=[-D 0];                         % spike timings\n",
    "\t"
   ]
  },
  {
   "cell_type": "code",
   "execution_count": 32,
   "metadata": {
    "collapsed": false
   },
   "outputs": [],
   "source": [
    "\tfor sec=1:T                      \t\t% simulation of T seconds\n",
    "\t\tfor t=1:1000                          % simulation of 1 sec\n",
    "\t\t\tI=zeros(N,1);\n",
    "\t\t\tI(ceil(N*rand))=20;                 % random thalamic input \n",
    "\t\t\tfired = find(v>=30);                % indices of fired neurons\n",
    "\t\t\tif length(fired) > 0 \n",
    "\t\t\t\tfor i = fired'\n",
    "\t\t\t\t\ttimes{i}(end+1) = (sec-1)+t/1000;\n",
    "\t\t\t\tend\n",
    "\t\t\tend\n",
    "\t\t\tv(fired)=-65;  \n",
    "\t\t\tu(fired)=u(fired)+d(fired);\n",
    "\t\t\t%STDP(fired,t+D)=0.1;\n",
    "\t\t\t%for k=1:length(fired)\n",
    "\t\t\t%\tsd(pre{fired(k)})=sd(pre{fired(k)})+STDP(N*t+aux{fired(k)});\n",
    "\t\t\t%end;\n",
    "\t\t\tfirings=[firings;t*ones(length(fired),1),fired];\n",
    "\t\t\tk=size(firings,1);\n",
    "\t\t\twhile firings(k,1)>t-D\n",
    "\t\t\t\tdel=delays{firings(k,2),t-firings(k,1)+1};\n",
    "\t\t\t\tind = post(firings(k,2),del);\n",
    "\t\t\t\tI(ind)=I(ind)+s(firings(k,2), del)';\n",
    "\t\t\t\t%sd(firings(k,2),del)=sd(firings(k,2),del)-1.2*STDP(ind,t+D)';\n",
    "\t\t\t\tk=k-1;\n",
    "\t\t\tend;\n",
    "\t\t\tv=v+0.5*((0.04*v+5).*v+140-u+I);    % for numerical \n",
    "\t\t\tv=v+0.5*((0.04*v+5).*v+140-u+I);    % stability time \n",
    "\t\t\tu=u+a.*(0.2*v-u);                   % step is 0.5 ms\n",
    "\t\t\t%STDP(:,t+D+1)=0.95*STDP(:,t+D);     % tau = 20 ms\n",
    "\t\tend;\n",
    "\t\t%plot(firings(:,1),firings(:,2),'.');\n",
    "\t\t%axis([0 1000 0 N]); drawnow;\n",
    "\t\t%STDP(:,1:D+1)=STDP(:,1001:1001+D);\n",
    "\t\tind = find(firings(:,1) > 1001-D);\n",
    "\t\tfirings=[-D 0;firings(ind,1)-1000,firings(ind,2)];\n",
    "\n",
    "\t\t%Comment out to ignore STDP\n",
    "\t\t%s(1:Ne,:)=max(0,min(sm,0.01+s(1:Ne,:)+sd(1:Ne,:)));\n",
    "\n",
    "\t\t%sd=0.9*sd;\n",
    "\tend;"
   ]
  },
  {
   "cell_type": "code",
   "execution_count": 33,
   "metadata": {
    "collapsed": true
   },
   "outputs": [],
   "source": [
    "\tspikes.times = times;\t\t%Spike times for each unit\n",
    "\tspikes.units = '1'; \t\t%Units in seconds\n",
    "\tspikes.conn = conn;\t\t\t%Connectivity matrix\n",
    "\tspikes.weights = weight;\t%Connection weight (negative for inhibitory)\n",
    "\tspikes.delays = delaysmat;\t%Delay matrix (if applicable)\n",
    "\tspikes.N = N;\t\t\t\t%Number of units\n",
    "\tspikes.T = T;"
   ]
  },
  {
   "cell_type": "code",
   "execution_count": 35,
   "metadata": {
    "collapsed": false
   },
   "outputs": [
    {
     "name": "stderr",
     "output_type": "stream",
     "text": [
      "\u001b[0;31mInvalid datatype for Image CData. Numeric or logical matrix required for image CData.\n",
      "\u001b[0m"
     ]
    }
   ],
   "source": [
    "imagesc(delays)"
   ]
  },
  {
   "cell_type": "code",
   "execution_count": 36,
   "metadata": {
    "collapsed": false
   },
   "outputs": [
    {
     "name": "stdout",
     "output_type": "stream",
     "text": [
      "ans =\n",
      "\n",
      "        1000          20\n"
     ]
    }
   ],
   "source": [
    "size(delays)"
   ]
  },
  {
   "cell_type": "code",
   "execution_count": 46,
   "metadata": {
    "collapsed": false
   },
   "outputs": [
    {
     "name": "stdout",
     "output_type": "stream",
     "text": [
      "d = \n",
      "\n",
      "  Columns 1 through 4\n",
      "\n",
      "    [1x2 double]    [1x3 double]    [1x2 double]    [1x7 double]\n",
      "\n",
      "  Columns 5 through 8\n",
      "\n",
      "    [1x3 double]    [1x11 double]    [1x6 double]    [1x4 double]\n",
      "\n",
      "  Columns 9 through 12\n",
      "\n",
      "    [1x3 double]    [1x7 double]    [1x4 double]    [1x4 double]\n",
      "\n",
      "  Columns 13 through 16\n",
      "\n",
      "    [1x4 double]    [1x6 double]    [1x6 double]    [1x4 double]\n",
      "\n",
      "  Columns 17 through 20\n",
      "\n",
      "    [1x8 double]    [1x5 double]    [1x6 double]    [1x5 double]\n"
     ]
    }
   ],
   "source": [
    "d=delays(1:1,:)"
   ]
  },
  {
   "cell_type": "code",
   "execution_count": 43,
   "metadata": {
    "collapsed": false
   },
   "outputs": [
    {
     "name": "stdout",
     "output_type": "stream",
     "text": [
      "d = \n",
      "\n",
      "    [1x2 double]\n"
     ]
    }
   ],
   "source": [
    "d"
   ]
  },
  {
   "cell_type": "code",
   "execution_count": 44,
   "metadata": {
    "collapsed": false
   },
   "outputs": [
    {
     "name": "stdout",
     "output_type": "stream",
     "text": [
      "ans =\n",
      "\n",
      "    45    76\n"
     ]
    }
   ],
   "source": [
    "d{1}"
   ]
  },
  {
   "cell_type": "code",
   "execution_count": null,
   "metadata": {
    "collapsed": true
   },
   "outputs": [],
   "source": []
  }
 ],
 "metadata": {
  "anaconda-cloud": {},
  "kernelspec": {
   "display_name": "Matlab",
   "language": "matlab",
   "name": "matlab"
  },
  "language_info": {
   "codemirror_mode": "octave",
   "file_extension": ".m",
   "help_links": [
    {
     "text": "MetaKernel Magics",
     "url": "https://github.com/calysto/metakernel/blob/master/metakernel/magics/README.md"
    }
   ],
   "mimetype": "text/x-octave",
   "name": "matlab",
   "version": "0.11.0"
  }
 },
 "nbformat": 4,
 "nbformat_minor": 1
}
